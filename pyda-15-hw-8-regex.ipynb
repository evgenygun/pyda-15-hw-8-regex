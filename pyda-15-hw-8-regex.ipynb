{
 "cells": [
  {
   "cell_type": "code",
   "execution_count": 230,
   "metadata": {},
   "outputs": [],
   "source": [
    "import re"
   ]
  },
  {
   "cell_type": "markdown",
   "metadata": {},
   "source": [
    "# Задание 1\n",
    "Напишите функцию, которая принимает на вход строку и проверяет является ли она валидным транспортным номером (1 буква, 3 цифры, 2 буквы, 2-3 цифры). Обратите внимание, что не все буквы кириллического алфавита используются в транспортных номерах.\n",
    "\n",
    "Если номер валиден, то функция должна возвращать отдельно номер и регион.\n",
    "\n",
    "Примеры работы программы:\n",
    "\n",
    "car_id = 'A222BC96'\n",
    "Результат: Номер A222BС валиден. Регион: 96\n",
    "\n",
    "car_id = 'АБ22ВВ193'\n",
    "Результат: Номер не валиден"
   ]
  },
  {
   "cell_type": "code",
   "execution_count": 231,
   "metadata": {},
   "outputs": [],
   "source": [
    "def car_id_validation(car_id):\n",
    "    if re.match(r'[А|В|Е|К|М|Н|О|Р|С|Т|У|Х]\\d{3}\\w{2}\\d{2,3}', car_id):\n",
    "        full_number = re.search(r'(\\w{1}\\d{3}\\w{2})(\\d{2,3})', car_id)\n",
    "        number = full_number.group(1)\n",
    "        region = full_number.group(2)\n",
    "        print(f'Результат: Номер {number} валиден. Регион: {region}')\n",
    "    else:\n",
    "        print('Результат: Номер не валиден')"
   ]
  },
  {
   "cell_type": "code",
   "execution_count": 232,
   "metadata": {},
   "outputs": [
    {
     "name": "stdout",
     "output_type": "stream",
     "text": [
      "Результат: Номер А222BC валиден. Регион: 96\n"
     ]
    }
   ],
   "source": [
    "car_id = 'А222BC96'\n",
    "car_id_validation(car_id)"
   ]
  },
  {
   "cell_type": "code",
   "execution_count": 233,
   "metadata": {},
   "outputs": [
    {
     "name": "stdout",
     "output_type": "stream",
     "text": [
      "Результат: Номер не валиден\n"
     ]
    }
   ],
   "source": [
    "car_id = 'АБ22ВВ193'\n",
    "car_id_validation(car_id)"
   ]
  },
  {
   "cell_type": "markdown",
   "metadata": {},
   "source": [
    "# Задание 2\n",
    "Напишите функцию, которая будет удалять все последовательные повторы слов из заданной строки при помощи регулярных выражений.\n",
    "\n",
    "Пример работы программы:\n",
    "\n",
    "some_string = 'Напишите функцию функцию, которая будет будет будет будет удалять все все все все последовательные повторы слов из из из из заданной строки строки при помощи регулярных выражений.'\n",
    "\n",
    "Результат:\n",
    "Напишите функцию, которая будет удалять все последовательные повторы слов из заданной строки при помощи регулярных выражений."
   ]
  },
  {
   "cell_type": "code",
   "execution_count": 234,
   "metadata": {},
   "outputs": [],
   "source": [
    "some_string = 'Напишите функцию функцию, которая будет будет будет будет удалять все все все все последовательные повторы слов из из из из заданной строки строки при помощи регулярных выражений.'"
   ]
  },
  {
   "cell_type": "markdown",
   "metadata": {},
   "source": [
    "### Решение без регулярных выражений:"
   ]
  },
  {
   "cell_type": "code",
   "execution_count": 235,
   "metadata": {},
   "outputs": [
    {
     "name": "stdout",
     "output_type": "stream",
     "text": [
      "Напишите функцию которая будет удалять все последовательные повторы слов из заданной строки при помощи регулярных выражений \n"
     ]
    }
   ],
   "source": [
    "some_string_list = re.findall(r'\\w+', some_string)\n",
    "\n",
    "result_string = ''\n",
    "\n",
    "for word in range(0, len(some_string_list)):\n",
    "    if some_string_list[word] == some_string_list[word-1]:\n",
    "        continue\n",
    "    else:\n",
    "        result_string = result_string + some_string_list[word] + ' '\n",
    "\n",
    "print(result_string)"
   ]
  },
  {
   "cell_type": "markdown",
   "metadata": {},
   "source": [
    "### Решение с помощью регулярных выражений"
   ]
  },
  {
   "cell_type": "code",
   "execution_count": 236,
   "metadata": {},
   "outputs": [
    {
     "name": "stdout",
     "output_type": "stream",
     "text": [
      "Напишите функцию, которая будет удалять все последовательные повторы слов из заданной строки при помощи регулярных выражений.\n"
     ]
    }
   ],
   "source": [
    "def delete_repeats(string):\n",
    "    string_with_deleted_repeats = re.sub(r'(\\w+)(\\s\\1)+', r'\\1', string)\n",
    "    #регулярка в первой скобочной группе находит слово без пробелов\n",
    "    #во второй группе - находит первую с пробелом перед ней. Плюс находит все последующие повторения этого слова\n",
    "    print(string_with_deleted_repeats)\n",
    "\n",
    "delete_repeats(some_string)"
   ]
  },
  {
   "cell_type": "markdown",
   "metadata": {},
   "source": [
    "# Задание 3\n",
    "Напишите функцию, которая будет возвращать акроним по переданной в нее строке со словами.\n",
    "\n",
    "Примеры работы программы:\n",
    "\n",
    "some_words = 'Информационные технологии'\n",
    "Результат: ИТ\n",
    "\n",
    "some_words = 'Near Field Communication'\n",
    "Результат: NFC"
   ]
  },
  {
   "cell_type": "code",
   "execution_count": 237,
   "metadata": {},
   "outputs": [],
   "source": [
    "def acronim(some_words):\n",
    "    acronim = re.sub(r'(\\w)(\\w+)', r'\\1', some_words)\n",
    "    result = acronim.replace(' ', '').upper()\n",
    "    print(f'Результат: {result}')"
   ]
  },
  {
   "cell_type": "code",
   "execution_count": 238,
   "metadata": {},
   "outputs": [
    {
     "name": "stdout",
     "output_type": "stream",
     "text": [
      "Результат: ИТ\n"
     ]
    }
   ],
   "source": [
    "some_words = 'Информационные технологии'\n",
    "acronim(some_words)"
   ]
  },
  {
   "cell_type": "code",
   "execution_count": 239,
   "metadata": {},
   "outputs": [
    {
     "name": "stdout",
     "output_type": "stream",
     "text": [
      "Результат: NFC\n"
     ]
    }
   ],
   "source": [
    "some_words = 'Near Field Communication'\n",
    "acronim(some_words)"
   ]
  },
  {
   "cell_type": "markdown",
   "metadata": {},
   "source": [
    "# Задание 4\n",
    "Напишите функцию, которая будет принимать на вход список email-адресов и выводить их распределение по доменным зонам.\n",
    "\n",
    "Пример работы программы:\n",
    "\n",
    "emails = ['test@gmail.com', 'xyz@test.in', 'test@ya.ru', 'xyz@mail.ru', 'xyz@ya.ru', 'xyz@gmail.com']\n",
    "\n",
    "Результат:\n",
    "\n",
    "gmail.com: 2\n",
    "test.in: 1 \n",
    "ya.ru: 2 \n",
    "mail.ru: 1"
   ]
  },
  {
   "cell_type": "code",
   "execution_count": 240,
   "metadata": {},
   "outputs": [],
   "source": [
    "def domain_count(emails):\n",
    "\n",
    "    domain_count = {}\n",
    "\n",
    "    for mail in emails:\n",
    "        domain = (re.findall(r'(\\w+)(\\@)(\\w+\\.\\w+)', mail))[0][2]\n",
    "        if domain not in domain_count:\n",
    "            domain_count[domain] = 1\n",
    "        else:\n",
    "            domain_count[domain] += 1\n",
    "\n",
    "    for domain, count in domain_count.items():\n",
    "        print(f'{domain}: {count}')"
   ]
  },
  {
   "cell_type": "code",
   "execution_count": 241,
   "metadata": {},
   "outputs": [
    {
     "name": "stdout",
     "output_type": "stream",
     "text": [
      "gmail.com: 2\n",
      "test.in: 1\n",
      "ya.ru: 2\n",
      "mail.ru: 1\n"
     ]
    }
   ],
   "source": [
    "emails = ['test@gmail.com', 'xyz@test.in', 'test@ya.ru', 'xyz@mail.ru', 'xyz@ya.ru', 'xyz@gmail.com']\n",
    "domain_count(emails)"
   ]
  }
 ],
 "metadata": {
  "kernelspec": {
   "display_name": "Python 3",
   "language": "python",
   "name": "python3"
  },
  "language_info": {
   "codemirror_mode": {
    "name": "ipython",
    "version": 3
   },
   "file_extension": ".py",
   "mimetype": "text/x-python",
   "name": "python",
   "nbconvert_exporter": "python",
   "pygments_lexer": "ipython3",
   "version": "3.8.3"
  }
 },
 "nbformat": 4,
 "nbformat_minor": 4
}
